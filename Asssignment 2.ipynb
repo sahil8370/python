{
 "cells": [
  {
   "cell_type": "markdown",
   "id": "aa4bad0f",
   "metadata": {},
   "source": [
    "1.Python program to  generate a random number"
   ]
  },
  {
   "cell_type": "code",
   "execution_count": 1,
   "id": "37035b51",
   "metadata": {},
   "outputs": [],
   "source": [
    "import random"
   ]
  },
  {
   "cell_type": "code",
   "execution_count": 16,
   "id": "e8776470",
   "metadata": {},
   "outputs": [
    {
     "name": "stdout",
     "output_type": "stream",
     "text": [
      "Enter the lower limit1\n",
      "Enter the upper limit4\n",
      "2\n"
     ]
    }
   ],
   "source": [
    "x=int(input(\"Enter the lower limit\"))\n",
    "y=int(input(\"Enter the upper limit\"))\n",
    "print(random.randint(x,y))"
   ]
  },
  {
   "cell_type": "markdown",
   "id": "14542220",
   "metadata": {},
   "source": [
    "2. Python Program to Find LCM\n"
   ]
  },
  {
   "cell_type": "code",
   "execution_count": 8,
   "id": "b7cc2b7c",
   "metadata": {},
   "outputs": [
    {
     "name": "stdout",
     "output_type": "stream",
     "text": [
      "4\n",
      "3\n",
      "12\n"
     ]
    }
   ],
   "source": [
    "num1 = int(input())\n",
    "num2 = int(input())\n",
    "if(num1 > num2 ):   \n",
    "    max= num1\n",
    "else:\n",
    "    max= num2\n",
    "while(True):\n",
    "    if(max % num1 == 0 and max % num2 == 0):   \n",
    "        print(max)\n",
    "        break;\n",
    "    max= max+ 1\n"
   ]
  },
  {
   "cell_type": "markdown",
   "id": "f5c0b019",
   "metadata": {},
   "source": [
    "4. Python Program to Make a Simple Calculator\n"
   ]
  },
  {
   "cell_type": "code",
   "execution_count": 3,
   "id": "ff21b7ab",
   "metadata": {},
   "outputs": [
    {
     "name": "stdout",
     "output_type": "stream",
     "text": [
      "Enter first number: 5\n",
      "Enter second number: 7\n",
      "Operation: +, -, *, /\n",
      "Select operations: *\n",
      "5.0 * 7.0 = 35.0\n"
     ]
    }
   ],
   "source": [
    "num1 = float(input(\"Enter first number: \"))\n",
    "num2 = float(input(\"Enter second number: \"))\n",
    "\n",
    "print(\"Operation: +, -, *, /\")\n",
    "select = input(\"Select operations: \")\n",
    "\n",
    "# check operations and display result\n",
    "# add(+) two numbers\n",
    "if select == \"+\":\n",
    "    print(num1, \"+\", num2, \"=\", num1+num2)\n",
    "\n",
    "# subtract(-) two numbers\n",
    "elif select == \"-\":\n",
    "    print(num1, \"-\", num2, \"=\", num1-num2)\n",
    "\n",
    "# multiplies(*) two numbers\n",
    "elif select == \"*\":\n",
    "    print(num1, \"*\", num2, \"=\", num1*num2)\n",
    "\n",
    "# divides(/) two numbers\n",
    "elif select == \"/\":\n",
    "    print(num1, \"/\", num2, \"=\", num1/num2)\n",
    "\n",
    "else:\n",
    "    print(\"Invalid input\")\n"
   ]
  },
  {
   "cell_type": "markdown",
   "id": "d5e6795c",
   "metadata": {},
   "source": [
    "5. Python program to copy all elements of one array into\n",
    "another array"
   ]
  },
  {
   "cell_type": "code",
   "execution_count": 5,
   "id": "0b8a6efe",
   "metadata": {},
   "outputs": [
    {
     "name": "stdout",
     "output_type": "stream",
     "text": [
      "Elements of original array: \n",
      "1\n",
      "2\n",
      "3\n",
      "4\n",
      "5\n",
      "\n",
      "Elements of new array: \n",
      "1\n",
      "2\n",
      "3\n",
      "4\n",
      "5\n"
     ]
    }
   ],
   "source": [
    "arr1 = [1, 2, 3, 4, 5];     \n",
    "    \n",
    "arr2 = [None] * len(arr1)\n",
    "     \n",
    "\n",
    "for i in range(0, len(arr1)):    \n",
    "    arr2[i] = arr1[i]\n",
    "     \n",
    "\n",
    "print(\"Elements of original array: \")    \n",
    "for i in range(0, len(arr1)):    \n",
    "   print(arr1[i])\n",
    "     \n",
    "print()\n",
    "     \n",
    "   \n",
    "print(\"Elements of new array: \")   \n",
    "for i in range(0, len(arr2)):    \n",
    "   print(arr2[i])\n"
   ]
  },
  {
   "cell_type": "markdown",
   "id": "ea33ef1e",
   "metadata": {},
   "source": [
    "6. Python program to sort the elements of an array in ascending\n",
    "order"
   ]
  },
  {
   "cell_type": "code",
   "execution_count": 7,
   "id": "0fe818cd",
   "metadata": {},
   "outputs": [
    {
     "name": "stdout",
     "output_type": "stream",
     "text": [
      "Elements of original array: \n",
      "5 2 8 7 1 \n",
      "Elements of array sorted in ascending order: \n",
      "1 2 5 7 8 "
     ]
    }
   ],
   "source": [
    "arr = [5, 2, 8, 7, 1];     \n",
    "temp = 0;    \n",
    "       \n",
    "print(\"Elements of original array: \")\n",
    "for i in range(0, len(arr)):    \n",
    "    print(arr[i], end=\" \")   \n",
    "   \n",
    "for i in range(0, len(arr)):    \n",
    "    for j in range(i+1, len(arr)):    \n",
    "        if(arr[i] > arr[j]):    \n",
    "            temp = arr[i]\n",
    "            arr[i] = arr[j]    \n",
    "            arr[j] = temp   \n",
    "     \n",
    "print()\n",
    "print(\"Elements of array sorted in ascending order: \")   \n",
    "for i in range(0, len(arr)):    \n",
    "    print(arr[i], end=\" \")"
   ]
  }
 ],
 "metadata": {
  "kernelspec": {
   "display_name": "Python 3 (ipykernel)",
   "language": "python",
   "name": "python3"
  },
  "language_info": {
   "codemirror_mode": {
    "name": "ipython",
    "version": 3
   },
   "file_extension": ".py",
   "mimetype": "text/x-python",
   "name": "python",
   "nbconvert_exporter": "python",
   "pygments_lexer": "ipython3",
   "version": "3.9.7"
  }
 },
 "nbformat": 4,
 "nbformat_minor": 5
}
