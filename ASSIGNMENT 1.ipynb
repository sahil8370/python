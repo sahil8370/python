{
 "cells": [
  {
   "cell_type": "markdown",
   "id": "2252bea3",
   "metadata": {},
   "source": [
    "1.Python program to check whether the given number is even or not."
   ]
  },
  {
   "cell_type": "code",
   "execution_count": 2,
   "id": "3a62c156",
   "metadata": {},
   "outputs": [
    {
     "name": "stdout",
     "output_type": "stream",
     "text": [
      "Enter the number :6\n",
      "The number is even\n"
     ]
    }
   ],
   "source": [
    "x=int(input(\"Enter the number :\"))\n",
    "if x%2==0:\n",
    "    print(\"The number is even\")\n",
    "else:\n",
    "    print(\"The number is not even\")"
   ]
  },
  {
   "cell_type": "markdown",
   "id": "ab2dd2db",
   "metadata": {},
   "source": [
    "2.Python program to convert the  temperature in degree centigrade to fahrenheit."
   ]
  },
  {
   "cell_type": "code",
   "execution_count": 3,
   "id": "11553b1c",
   "metadata": {},
   "outputs": [
    {
     "name": "stdout",
     "output_type": "stream",
     "text": [
      "Enter the celcius0\n",
      "The value of fahrenheit : 32.0\n"
     ]
    }
   ],
   "source": [
    "C=float(input(\"Enter the celcius\"))\n",
    "f=(C*(9/5)+32)\n",
    "print(\"The value of fahrenheit :\",f)"
   ]
  },
  {
   "cell_type": "markdown",
   "id": "d1f708d1",
   "metadata": {},
   "source": [
    "3.Python program to find the circumference and area of a circle with a given radius"
   ]
  },
  {
   "cell_type": "code",
   "execution_count": 4,
   "id": "d502b32d",
   "metadata": {},
   "outputs": [
    {
     "name": "stdout",
     "output_type": "stream",
     "text": [
      "Enter the radius of circle3\n",
      "The area of circle is :  28.26\n",
      "The circumference of circle is :  18.84\n"
     ]
    }
   ],
   "source": [
    "R=float(input(\"Enter the radius of circle\"))\n",
    "Area=3.14*R**2\n",
    "Circum=2*3.14*R\n",
    "print(\"The area of circle is : \",Area)\n",
    "print(\"The circumference of circle is : \",Circum)"
   ]
  },
  {
   "cell_type": "markdown",
   "id": "ede1218f",
   "metadata": {},
   "source": [
    "4.Python program to check whether the given integer is multiple of 5.\n"
   ]
  },
  {
   "cell_type": "code",
   "execution_count": 2,
   "id": "e787fd95",
   "metadata": {},
   "outputs": [
    {
     "name": "stdout",
     "output_type": "stream",
     "text": [
      "Enter the number : 10\n",
      "10 is multiple of 5\n"
     ]
    }
   ],
   "source": [
    "X=int(input(\"Enter the number : \"))\n",
    "if(X%5==0):\n",
    "    print(X,\"is multiple of 5\")\n",
    "else:\n",
    "    print(\"Not multiple of 5\")"
   ]
  },
  {
   "cell_type": "markdown",
   "id": "b2507d1d",
   "metadata": {},
   "source": [
    "5.Python program  to check whether the number is multiple of 5 and 7"
   ]
  },
  {
   "cell_type": "code",
   "execution_count": 5,
   "id": "36693666",
   "metadata": {},
   "outputs": [
    {
     "name": "stdout",
     "output_type": "stream",
     "text": [
      "Enter the number35\n",
      "35 is a multiple of both 5 and 7\n"
     ]
    }
   ],
   "source": [
    "X=int(input(\"Enter the number\"))\n",
    "if(X%35)==0:\n",
    "    print(X,\"is a multiple of both 5 and 7\")\n",
    "else:\n",
    "    print(x,\"is not a multiple of 5 and 7\")"
   ]
  }
 ],
 "metadata": {
  "kernelspec": {
   "display_name": "Python 3 (ipykernel)",
   "language": "python",
   "name": "python3"
  },
  "language_info": {
   "codemirror_mode": {
    "name": "ipython",
    "version": 3
   },
   "file_extension": ".py",
   "mimetype": "text/x-python",
   "name": "python",
   "nbconvert_exporter": "python",
   "pygments_lexer": "ipython3",
   "version": "3.9.7"
  }
 },
 "nbformat": 4,
 "nbformat_minor": 5
}
